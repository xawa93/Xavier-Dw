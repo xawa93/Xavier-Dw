{
 "cells": [
  {
   "cell_type": "markdown",
   "metadata": {},
   "source": [
    "# Lesson 01 - Importing Data and Quick Checks"
   ]
  },
  {
   "cell_type": "markdown",
   "metadata": {},
   "source": [
    "We'll cover:  \n",
    "\n",
    "  - Importing data with `pandas`\n",
    "  - Taking a look at columns\n",
    "  - Ensuring columns will match up"
   ]
  },
  {
   "cell_type": "code",
   "execution_count": 1,
   "metadata": {},
   "outputs": [],
   "source": [
    "# Import all libraries first\n",
    "import pandas as pd\n",
    "\n",
    "%matplotlib inline"
   ]
  },
  {
   "cell_type": "markdown",
   "metadata": {},
   "source": [
    "Information about the data:  \n",
    "\n",
    "  - We have historical data from 2003-2004 that is clean and understood to be accurate\n",
    "  - Sales data from 2003 - 2004 is in a single file `data/2003-2004_sales.csv`\n",
    "  - We will pretend that we have just kicked off 2005 and January data is about to arrive\n",
    "  - Data is updated monthly, so we will need a process to automatically check the data quality\n",
    "\n",
    "It is good practice to read all of your data in at the beginning of your analysis so that people know where your sources are."
   ]
  },
  {
   "cell_type": "code",
   "execution_count": 2,
   "metadata": {
    "scrolled": false
   },
   "outputs": [
    {
     "data": {
      "text/html": [
       "<div>\n",
       "<style scoped>\n",
       "    .dataframe tbody tr th:only-of-type {\n",
       "        vertical-align: middle;\n",
       "    }\n",
       "\n",
       "    .dataframe tbody tr th {\n",
       "        vertical-align: top;\n",
       "    }\n",
       "\n",
       "    .dataframe thead th {\n",
       "        text-align: right;\n",
       "    }\n",
       "</style>\n",
       "<table border=\"1\" class=\"dataframe\">\n",
       "  <thead>\n",
       "    <tr style=\"text-align: right;\">\n",
       "      <th></th>\n",
       "      <th>Unnamed: 0</th>\n",
       "      <th>ORDERNUMBER</th>\n",
       "      <th>QUANTITYORDERED</th>\n",
       "      <th>PRICEEACH</th>\n",
       "      <th>ORDERLINENUMBER</th>\n",
       "      <th>SALES</th>\n",
       "      <th>ORDERDATE</th>\n",
       "      <th>STATUS</th>\n",
       "      <th>QTR_ID</th>\n",
       "      <th>MONTH_ID</th>\n",
       "      <th>...</th>\n",
       "      <th>ADDRESSLINE1</th>\n",
       "      <th>ADDRESSLINE2</th>\n",
       "      <th>CITY</th>\n",
       "      <th>STATE</th>\n",
       "      <th>POSTALCODE</th>\n",
       "      <th>COUNTRY</th>\n",
       "      <th>TERRITORY</th>\n",
       "      <th>CONTACTLASTNAME</th>\n",
       "      <th>CONTACTFIRSTNAME</th>\n",
       "      <th>DEALSIZE</th>\n",
       "    </tr>\n",
       "  </thead>\n",
       "  <tbody>\n",
       "    <tr>\n",
       "      <th>0</th>\n",
       "      <td>0</td>\n",
       "      <td>10107</td>\n",
       "      <td>30</td>\n",
       "      <td>95.70</td>\n",
       "      <td>2</td>\n",
       "      <td>2871.00</td>\n",
       "      <td>2/24/2003 0:00</td>\n",
       "      <td>Shipped</td>\n",
       "      <td>1</td>\n",
       "      <td>2</td>\n",
       "      <td>...</td>\n",
       "      <td>897 Long Airport Avenue</td>\n",
       "      <td>NaN</td>\n",
       "      <td>NYC</td>\n",
       "      <td>NY</td>\n",
       "      <td>10022</td>\n",
       "      <td>USA</td>\n",
       "      <td>NaN</td>\n",
       "      <td>Yu</td>\n",
       "      <td>Kwai</td>\n",
       "      <td>Small</td>\n",
       "    </tr>\n",
       "    <tr>\n",
       "      <th>1</th>\n",
       "      <td>1</td>\n",
       "      <td>10121</td>\n",
       "      <td>34</td>\n",
       "      <td>81.35</td>\n",
       "      <td>5</td>\n",
       "      <td>2765.90</td>\n",
       "      <td>5/7/2003 0:00</td>\n",
       "      <td>Shipped</td>\n",
       "      <td>2</td>\n",
       "      <td>5</td>\n",
       "      <td>...</td>\n",
       "      <td>59 rue de l'Abbaye</td>\n",
       "      <td>NaN</td>\n",
       "      <td>Reims</td>\n",
       "      <td>NaN</td>\n",
       "      <td>51100</td>\n",
       "      <td>France</td>\n",
       "      <td>EMEA</td>\n",
       "      <td>Henriot</td>\n",
       "      <td>Paul</td>\n",
       "      <td>Small</td>\n",
       "    </tr>\n",
       "    <tr>\n",
       "      <th>2</th>\n",
       "      <td>2</td>\n",
       "      <td>10134</td>\n",
       "      <td>41</td>\n",
       "      <td>94.74</td>\n",
       "      <td>2</td>\n",
       "      <td>3884.34</td>\n",
       "      <td>7/1/2003 0:00</td>\n",
       "      <td>Shipped</td>\n",
       "      <td>3</td>\n",
       "      <td>7</td>\n",
       "      <td>...</td>\n",
       "      <td>27 rue du Colonel Pierre Avia</td>\n",
       "      <td>NaN</td>\n",
       "      <td>Paris</td>\n",
       "      <td>NaN</td>\n",
       "      <td>75508</td>\n",
       "      <td>France</td>\n",
       "      <td>EMEA</td>\n",
       "      <td>Da Cunha</td>\n",
       "      <td>Daniel</td>\n",
       "      <td>Medium</td>\n",
       "    </tr>\n",
       "    <tr>\n",
       "      <th>3</th>\n",
       "      <td>3</td>\n",
       "      <td>10145</td>\n",
       "      <td>45</td>\n",
       "      <td>83.26</td>\n",
       "      <td>6</td>\n",
       "      <td>3746.70</td>\n",
       "      <td>8/25/2003 0:00</td>\n",
       "      <td>Shipped</td>\n",
       "      <td>3</td>\n",
       "      <td>8</td>\n",
       "      <td>...</td>\n",
       "      <td>78934 Hillside Dr.</td>\n",
       "      <td>NaN</td>\n",
       "      <td>Pasadena</td>\n",
       "      <td>CA</td>\n",
       "      <td>90003</td>\n",
       "      <td>USA</td>\n",
       "      <td>NaN</td>\n",
       "      <td>Young</td>\n",
       "      <td>Julie</td>\n",
       "      <td>Medium</td>\n",
       "    </tr>\n",
       "    <tr>\n",
       "      <th>4</th>\n",
       "      <td>4</td>\n",
       "      <td>10159</td>\n",
       "      <td>49</td>\n",
       "      <td>100.00</td>\n",
       "      <td>14</td>\n",
       "      <td>5205.27</td>\n",
       "      <td>10/10/2003 0:00</td>\n",
       "      <td>Shipped</td>\n",
       "      <td>4</td>\n",
       "      <td>10</td>\n",
       "      <td>...</td>\n",
       "      <td>7734 Strong St.</td>\n",
       "      <td>NaN</td>\n",
       "      <td>San Francisco</td>\n",
       "      <td>CA</td>\n",
       "      <td>NaN</td>\n",
       "      <td>USA</td>\n",
       "      <td>NaN</td>\n",
       "      <td>Brown</td>\n",
       "      <td>Julie</td>\n",
       "      <td>Medium</td>\n",
       "    </tr>\n",
       "  </tbody>\n",
       "</table>\n",
       "<p>5 rows × 26 columns</p>\n",
       "</div>"
      ],
      "text/plain": [
       "   Unnamed: 0  ORDERNUMBER  QUANTITYORDERED  PRICEEACH  ORDERLINENUMBER  \\\n",
       "0           0        10107               30      95.70                2   \n",
       "1           1        10121               34      81.35                5   \n",
       "2           2        10134               41      94.74                2   \n",
       "3           3        10145               45      83.26                6   \n",
       "4           4        10159               49     100.00               14   \n",
       "\n",
       "     SALES        ORDERDATE   STATUS  QTR_ID  MONTH_ID  ...  \\\n",
       "0  2871.00   2/24/2003 0:00  Shipped       1         2  ...   \n",
       "1  2765.90    5/7/2003 0:00  Shipped       2         5  ...   \n",
       "2  3884.34    7/1/2003 0:00  Shipped       3         7  ...   \n",
       "3  3746.70   8/25/2003 0:00  Shipped       3         8  ...   \n",
       "4  5205.27  10/10/2003 0:00  Shipped       4        10  ...   \n",
       "\n",
       "                    ADDRESSLINE1 ADDRESSLINE2           CITY STATE POSTALCODE  \\\n",
       "0        897 Long Airport Avenue          NaN            NYC    NY      10022   \n",
       "1             59 rue de l'Abbaye          NaN          Reims   NaN      51100   \n",
       "2  27 rue du Colonel Pierre Avia          NaN          Paris   NaN      75508   \n",
       "3             78934 Hillside Dr.          NaN       Pasadena    CA      90003   \n",
       "4                7734 Strong St.          NaN  San Francisco    CA        NaN   \n",
       "\n",
       "  COUNTRY TERRITORY CONTACTLASTNAME CONTACTFIRSTNAME DEALSIZE  \n",
       "0     USA       NaN              Yu             Kwai    Small  \n",
       "1  France      EMEA         Henriot             Paul    Small  \n",
       "2  France      EMEA        Da Cunha           Daniel   Medium  \n",
       "3     USA       NaN           Young            Julie   Medium  \n",
       "4     USA       NaN           Brown            Julie   Medium  \n",
       "\n",
       "[5 rows x 26 columns]"
      ]
     },
     "execution_count": 2,
     "metadata": {},
     "output_type": "execute_result"
    }
   ],
   "source": [
    "# Read historical data and take a look at it\n",
    "data = pd.read_csv('data/2003-2004_sales.csv')\n",
    "data.head()"
   ]
  },
  {
   "cell_type": "markdown",
   "metadata": {},
   "source": [
    "Assuming we know what the data is about (because we deal with it on a daily basis)  \n",
    "\n",
    "What can we tell by using `data.head()` ?  \n",
    "\n",
    "  - Our data is in tidy format\n",
    "  - There are multiple variable types - continuous and categorical\n",
    "  - There are multiple data types - int, string, float, datetime\n",
    "  - There are NaN values present\n",
    "  "
   ]
  },
  {
   "cell_type": "markdown",
   "metadata": {},
   "source": [
    "Print out the columns of the data (some were hidden by `...` above)"
   ]
  },
  {
   "cell_type": "code",
   "execution_count": 3,
   "metadata": {},
   "outputs": [
    {
     "data": {
      "text/plain": [
       "Index(['Unnamed: 0', 'ORDERNUMBER', 'QUANTITYORDERED', 'PRICEEACH',\n",
       "       'ORDERLINENUMBER', 'SALES', 'ORDERDATE', 'STATUS', 'QTR_ID', 'MONTH_ID',\n",
       "       'YEAR_ID', 'PRODUCTLINE', 'MSRP', 'PRODUCTCODE', 'CUSTOMERNAME',\n",
       "       'PHONE', 'ADDRESSLINE1', 'ADDRESSLINE2', 'CITY', 'STATE', 'POSTALCODE',\n",
       "       'COUNTRY', 'TERRITORY', 'CONTACTLASTNAME', 'CONTACTFIRSTNAME',\n",
       "       'DEALSIZE'],\n",
       "      dtype='object')"
      ]
     },
     "execution_count": 3,
     "metadata": {},
     "output_type": "execute_result"
    }
   ],
   "source": [
    "# Take a look at the columns\n",
    "data.columns"
   ]
  },
  {
   "cell_type": "code",
   "execution_count": 4,
   "metadata": {},
   "outputs": [
    {
     "name": "stdout",
     "output_type": "stream",
     "text": [
      "<class 'pandas.core.frame.DataFrame'>\n",
      "RangeIndex: 2345 entries, 0 to 2344\n",
      "Data columns (total 26 columns):\n",
      "Unnamed: 0          2345 non-null int64\n",
      "ORDERNUMBER         2345 non-null int64\n",
      "QUANTITYORDERED     2345 non-null int64\n",
      "PRICEEACH           2345 non-null float64\n",
      "ORDERLINENUMBER     2345 non-null int64\n",
      "SALES               2345 non-null float64\n",
      "ORDERDATE           2345 non-null object\n",
      "STATUS              2345 non-null object\n",
      "QTR_ID              2345 non-null int64\n",
      "MONTH_ID            2345 non-null int64\n",
      "YEAR_ID             2345 non-null int64\n",
      "PRODUCTLINE         2345 non-null object\n",
      "MSRP                2345 non-null int64\n",
      "PRODUCTCODE         2345 non-null object\n",
      "CUSTOMERNAME        2345 non-null object\n",
      "PHONE               2345 non-null object\n",
      "ADDRESSLINE1        2345 non-null object\n",
      "ADDRESSLINE2        268 non-null object\n",
      "CITY                2345 non-null object\n",
      "STATE               1112 non-null object\n",
      "POSTALCODE          2282 non-null object\n",
      "COUNTRY             2345 non-null object\n",
      "TERRITORY           1443 non-null object\n",
      "CONTACTLASTNAME     2345 non-null object\n",
      "CONTACTFIRSTNAME    2345 non-null object\n",
      "DEALSIZE            2345 non-null object\n",
      "dtypes: float64(2), int64(8), object(16)\n",
      "memory usage: 476.4+ KB\n"
     ]
    }
   ],
   "source": [
    "# Take another look to find all data types\n",
    "Dataframe.dtypes"
   ]
  },
  {
   "cell_type": "markdown",
   "metadata": {},
   "source": [
    "What can we tell from using the `.info()` method?\n",
    "\n",
    "  - There are 2345 entries in total\n",
    "  - There are null values present in multiple columns (ADDRESSLINE2 has the most)\n",
    "  - There are 2 `float64` columns and 8 `int64` columns\n",
    "  - That leaves 16 columns of `object` type"
   ]
  },
  {
   "cell_type": "code",
   "execution_count": 5,
   "metadata": {},
   "outputs": [
    {
     "data": {
      "text/html": [
       "<div>\n",
       "<style scoped>\n",
       "    .dataframe tbody tr th:only-of-type {\n",
       "        vertical-align: middle;\n",
       "    }\n",
       "\n",
       "    .dataframe tbody tr th {\n",
       "        vertical-align: top;\n",
       "    }\n",
       "\n",
       "    .dataframe thead th {\n",
       "        text-align: right;\n",
       "    }\n",
       "</style>\n",
       "<table border=\"1\" class=\"dataframe\">\n",
       "  <thead>\n",
       "    <tr style=\"text-align: right;\">\n",
       "      <th></th>\n",
       "      <th>Unnamed: 0</th>\n",
       "      <th>ORDERNUMBER</th>\n",
       "      <th>QUANTITYORDERED</th>\n",
       "      <th>PRICEEACH</th>\n",
       "      <th>ORDERLINENUMBER</th>\n",
       "      <th>SALES</th>\n",
       "      <th>QTR_ID</th>\n",
       "      <th>MONTH_ID</th>\n",
       "      <th>YEAR_ID</th>\n",
       "      <th>MSRP</th>\n",
       "    </tr>\n",
       "  </thead>\n",
       "  <tbody>\n",
       "    <tr>\n",
       "      <th>count</th>\n",
       "      <td>2345.000000</td>\n",
       "      <td>2345.000000</td>\n",
       "      <td>2345.000000</td>\n",
       "      <td>2345.000000</td>\n",
       "      <td>2345.000000</td>\n",
       "      <td>2345.000000</td>\n",
       "      <td>2345.000000</td>\n",
       "      <td>2345.000000</td>\n",
       "      <td>2345.000000</td>\n",
       "      <td>2345.000000</td>\n",
       "    </tr>\n",
       "    <tr>\n",
       "      <th>mean</th>\n",
       "      <td>1407.736887</td>\n",
       "      <td>10231.498081</td>\n",
       "      <td>34.727505</td>\n",
       "      <td>83.702021</td>\n",
       "      <td>6.566738</td>\n",
       "      <td>3514.346328</td>\n",
       "      <td>2.992751</td>\n",
       "      <td>7.926226</td>\n",
       "      <td>2003.573561</td>\n",
       "      <td>100.827292</td>\n",
       "    </tr>\n",
       "    <tr>\n",
       "      <th>std</th>\n",
       "      <td>814.746301</td>\n",
       "      <td>75.892675</td>\n",
       "      <td>9.028843</td>\n",
       "      <td>20.141470</td>\n",
       "      <td>4.258489</td>\n",
       "      <td>1769.969374</td>\n",
       "      <td>1.118201</td>\n",
       "      <td>3.398720</td>\n",
       "      <td>0.494665</td>\n",
       "      <td>40.175060</td>\n",
       "    </tr>\n",
       "    <tr>\n",
       "      <th>min</th>\n",
       "      <td>0.000000</td>\n",
       "      <td>10100.000000</td>\n",
       "      <td>20.000000</td>\n",
       "      <td>27.220000</td>\n",
       "      <td>1.000000</td>\n",
       "      <td>577.600000</td>\n",
       "      <td>1.000000</td>\n",
       "      <td>1.000000</td>\n",
       "      <td>2003.000000</td>\n",
       "      <td>33.000000</td>\n",
       "    </tr>\n",
       "    <tr>\n",
       "      <th>25%</th>\n",
       "      <td>705.000000</td>\n",
       "      <td>10167.000000</td>\n",
       "      <td>27.000000</td>\n",
       "      <td>69.280000</td>\n",
       "      <td>3.000000</td>\n",
       "      <td>2207.520000</td>\n",
       "      <td>2.000000</td>\n",
       "      <td>5.000000</td>\n",
       "      <td>2003.000000</td>\n",
       "      <td>68.000000</td>\n",
       "    </tr>\n",
       "    <tr>\n",
       "      <th>50%</th>\n",
       "      <td>1403.000000</td>\n",
       "      <td>10228.000000</td>\n",
       "      <td>34.000000</td>\n",
       "      <td>95.800000</td>\n",
       "      <td>6.000000</td>\n",
       "      <td>3167.360000</td>\n",
       "      <td>3.000000</td>\n",
       "      <td>9.000000</td>\n",
       "      <td>2004.000000</td>\n",
       "      <td>99.000000</td>\n",
       "    </tr>\n",
       "    <tr>\n",
       "      <th>75%</th>\n",
       "      <td>2112.000000</td>\n",
       "      <td>10301.000000</td>\n",
       "      <td>43.000000</td>\n",
       "      <td>100.000000</td>\n",
       "      <td>10.000000</td>\n",
       "      <td>4441.500000</td>\n",
       "      <td>4.000000</td>\n",
       "      <td>11.000000</td>\n",
       "      <td>2004.000000</td>\n",
       "      <td>124.000000</td>\n",
       "    </tr>\n",
       "    <tr>\n",
       "      <th>max</th>\n",
       "      <td>2818.000000</td>\n",
       "      <td>10361.000000</td>\n",
       "      <td>55.000000</td>\n",
       "      <td>100.000000</td>\n",
       "      <td>18.000000</td>\n",
       "      <td>12536.500000</td>\n",
       "      <td>4.000000</td>\n",
       "      <td>12.000000</td>\n",
       "      <td>2004.000000</td>\n",
       "      <td>214.000000</td>\n",
       "    </tr>\n",
       "  </tbody>\n",
       "</table>\n",
       "</div>"
      ],
      "text/plain": [
       "        Unnamed: 0   ORDERNUMBER  QUANTITYORDERED    PRICEEACH  \\\n",
       "count  2345.000000   2345.000000      2345.000000  2345.000000   \n",
       "mean   1407.736887  10231.498081        34.727505    83.702021   \n",
       "std     814.746301     75.892675         9.028843    20.141470   \n",
       "min       0.000000  10100.000000        20.000000    27.220000   \n",
       "25%     705.000000  10167.000000        27.000000    69.280000   \n",
       "50%    1403.000000  10228.000000        34.000000    95.800000   \n",
       "75%    2112.000000  10301.000000        43.000000   100.000000   \n",
       "max    2818.000000  10361.000000        55.000000   100.000000   \n",
       "\n",
       "       ORDERLINENUMBER         SALES       QTR_ID     MONTH_ID      YEAR_ID  \\\n",
       "count      2345.000000   2345.000000  2345.000000  2345.000000  2345.000000   \n",
       "mean          6.566738   3514.346328     2.992751     7.926226  2003.573561   \n",
       "std           4.258489   1769.969374     1.118201     3.398720     0.494665   \n",
       "min           1.000000    577.600000     1.000000     1.000000  2003.000000   \n",
       "25%           3.000000   2207.520000     2.000000     5.000000  2003.000000   \n",
       "50%           6.000000   3167.360000     3.000000     9.000000  2004.000000   \n",
       "75%          10.000000   4441.500000     4.000000    11.000000  2004.000000   \n",
       "max          18.000000  12536.500000     4.000000    12.000000  2004.000000   \n",
       "\n",
       "              MSRP  \n",
       "count  2345.000000  \n",
       "mean    100.827292  \n",
       "std      40.175060  \n",
       "min      33.000000  \n",
       "25%      68.000000  \n",
       "50%      99.000000  \n",
       "75%     124.000000  \n",
       "max     214.000000  "
      ]
     },
     "execution_count": 5,
     "metadata": {},
     "output_type": "execute_result"
    }
   ],
   "source": [
    "# Take another look using describe\n",
    "data.describe()"
   ]
  },
  {
   "cell_type": "markdown",
   "metadata": {},
   "source": [
    "The `.describe()` method allows us to extract a bit more information about our data.  \n",
    "\n",
    "Did you notice that only numerical columns have been retained?  \n",
    "\n",
    "What type of data does `.describe()` seem to help out with?  \n",
    "\n",
    "What could be some easy \"red flags\" to warn us if new data could conflict with existing records?  \n",
    "\n",
    "  - YEAR_ID, MONTH_ID: The single most obvious piece of information to tell us whether or not we're looking at existing or conflicting dates\n",
    "  - ORDERNUMBER: min & max values - new data should lie outside of these values (but there could always be returns or perhaps some orders are processed faster than others which could throw us off)\n",
    "\n",
    "The other fields will be important in terms of their range, the Inner Quartile Range (IQR) will give us a quick look as to whether or not the data fits into an average range.\n"
   ]
  },
  {
   "cell_type": "code",
   "execution_count": 6,
   "metadata": {},
   "outputs": [],
   "source": [
    "# We have no need for these columns\n",
    "data = data.drop(['Unnamed: 0', 'QTR_ID'], axis=1)"
   ]
  },
  {
   "cell_type": "markdown",
   "metadata": {},
   "source": [
    "We can plot the numeric data to get a quick look at the distributions."
   ]
  },
  {
   "cell_type": "code",
   "execution_count": 7,
   "metadata": {
    "scrolled": true
   },
   "outputs": [
    {
     "data": {
      "image/png": "[encoded data removed]",
      "text/plain": [
       "<Figure size 720x720 with 6 Axes>"
      ]
     },
     "metadata": {
      "needs_background": "light"
     },
     "output_type": "display_data"
    }
   ],
   "source": [
    "df = data[['MSRP', 'ORDERNUMBER', 'ORDERLINENUMBER', 'PRICEEACH', 'QUANTITYORDERED', 'SALES']]\n",
    "df.hist(figsize=(10, 10), bins=30, xlabelsize=8, ylabelsize=8);"
   ]
  },
  {
   "cell_type": "markdown",
   "metadata": {},
   "source": [
    "Looking at the plot shows us a few things:  \n",
    "\n",
    "  - ORDERNUMBER certainly appears more than once in the data set and at varying instances\n",
    "  - SALES is really the only thing that appears to have a smooth distribution of some sort\n",
    "  - PRICEEACH is extremely skewed near the 100 mark\n",
    "  - ORDERLINENUMBER has a definite pattern\n",
    "  - MSRP may be approximated by a distribution of some sort\n",
    "  - QUANTITYORDERED seems to have spikes - likely a discount offered for certain levels of purchases\n",
    "\n",
    "Writing tests for the numerical data should be straightforward. We will first use the most simple possible tests and then gradually improve them (if necessary). This method will basically follow the Occam's Razor principle - which is really handy for this type of work - especially when building a prototype.\n",
    "\n",
    "We will start this off with `.min()` and `.max()` functions only, but this will not be robust enough. This will be handled in a later lesson because assuming that `min` and `max` values for historical is not a great test but is worth showing."
   ]
  },
  {
   "cell_type": "code",
   "execution_count": 8,
   "metadata": {},
   "outputs": [],
   "source": [
    "data_test = data.copy()"
   ]
  },
  {
   "cell_type": "code",
   "execution_count": 9,
   "metadata": {},
   "outputs": [],
   "source": [
    "# All numbers should be larger than the minimum\n",
    "# We will compare a the new dataframe with the test dataframe (new vs historical)\n",
    "def test_col_gte_min_value(new_df, historical_df, col_name):\n",
    "    min_value = historical_df[col_name].min()\n",
    "    filtered_df = new_df[new_df[col_name] >= min_value]\n",
    "    assert len(filtered_df) == len(new_df)\n",
    "\n",
    "# Do the same for max value\n",
    "def test_col_lte_max_value(new_df, historical_df, col_name):\n",
    "    max_value = historical_df[col_name].max()\n",
    "    filtered_df = new_df[new_df[col_name] <= max_value]\n",
    "    assert len(filtered_df) == len(new_df)"
   ]
  },
  {
   "cell_type": "markdown",
   "metadata": {},
   "source": [
    "**Note**: it is possible (and easy) to write a test that would do `min` and `max` in one function. However, this seems slightly clearer to me and when an error is returned it will be slightly easier to read.\n",
    "\n",
    "**Note**: the test will not necessarily make a lot of sense to compare the existing dataframe with itself. It will be useful to compare new dataframes to the historical dataframes in the future because we will be utilizing those numbers."
   ]
  },
  {
   "cell_type": "code",
   "execution_count": 10,
   "metadata": {},
   "outputs": [],
   "source": [
    "# Future cases will have the new dataframe in place of the first data_test in these functions\n",
    "col_name = 'MSRP'\n",
    "test_col_gte_min_value(data_test, data_test, col_name)\n",
    "test_col_lte_max_value(data_test, data_test, col_name)"
   ]
  },
  {
   "cell_type": "code",
   "execution_count": 11,
   "metadata": {},
   "outputs": [],
   "source": [
    "col_name = 'PRICEEACH'\n",
    "test_col_gte_min_value(data_test, data_test, col_name)\n",
    "test_col_lte_max_value(data_test, data_test, col_name)"
   ]
  },
  {
   "cell_type": "code",
   "execution_count": 12,
   "metadata": {},
   "outputs": [],
   "source": [
    "col_name = 'PRICEEACH'\n",
    "test_col_gte_min_value(data_test, data_test, col_name)\n",
    "test_col_lte_max_value(data_test, data_test, col_name)"
   ]
  },
  {
   "cell_type": "code",
   "execution_count": 13,
   "metadata": {},
   "outputs": [],
   "source": [
    "col_name = 'SALES'\n",
    "test_col_gte_min_value(data_test, data_test, col_name)\n",
    "test_col_lte_max_value(data_test, data_test, col_name)"
   ]
  },
  {
   "cell_type": "markdown",
   "metadata": {},
   "source": [
    "It doesn't make sense to compare certain columns against historical but should still be looked at from the `min`, `max`, and `range` perspective"
   ]
  },
  {
   "cell_type": "code",
   "execution_count": 14,
   "metadata": {},
   "outputs": [],
   "source": [
    "# In these functions, the new dataframe will take the place of data_test\n",
    "# This is suppposed to compare itself against itself\n",
    "col_name = 'ORDERNUMBER'\n",
    "test_col_gte_min_value(data_test, data_test, col_name)\n",
    "test_col_lte_max_value(data_test, data_test, col_name)"
   ]
  },
  {
   "cell_type": "code",
   "execution_count": 15,
   "metadata": {},
   "outputs": [],
   "source": [
    "col_name = 'ORDERLINENUMBER'\n",
    "test_col_gte_min_value(data_test, data_test, col_name)\n",
    "test_col_lte_max_value(data_test, data_test, col_name)"
   ]
  },
  {
   "cell_type": "markdown",
   "metadata": {},
   "source": [
    "The following test will ensure there are numbers for every value between "
   ]
  },
  {
   "cell_type": "code",
   "execution_count": 16,
   "metadata": {},
   "outputs": [],
   "source": [
    "# There should be a sequence of ORDERNUMBER from min to max in which all values should live\n",
    "def test_col_sequence(new_df, col_name):\n",
    "    _min = new_df[col_name].min()\n",
    "    _max = new_df[col_name].max()\n",
    "    old_rng = new_df[col_name].unique().tolist()\n",
    "    new_rng = list(range(_min, _max + 1))\n",
    "    assert sorted(old_rng) == sorted(new_rng)"
   ]
  },
  {
   "cell_type": "code",
   "execution_count": 17,
   "metadata": {},
   "outputs": [
    {
     "ename": "AssertionError",
     "evalue": "",
     "output_type": "error",
     "traceback": [
      "\u001b[0;31m---------------------------------------------------------------------------\u001b[0m",
      "\u001b[0;31mAssertionError\u001b[0m                            Traceback (most recent call last)",
      "\u001b[0;32m<ipython-input-17-9a8024b408be>\u001b[0m in \u001b[0;36m<module>\u001b[0;34m\u001b[0m\n\u001b[0;32m----> 1\u001b[0;31m \u001b[0mtest_col_sequence\u001b[0m\u001b[0;34m(\u001b[0m\u001b[0mdata_test\u001b[0m\u001b[0;34m,\u001b[0m \u001b[0;34m'ORDERNUMBER'\u001b[0m\u001b[0;34m)\u001b[0m\u001b[0;34m\u001b[0m\u001b[0;34m\u001b[0m\u001b[0m\n\u001b[0m",
      "\u001b[0;32m<ipython-input-16-f4b22b1e325c>\u001b[0m in \u001b[0;36mtest_col_sequence\u001b[0;34m(new_df, col_name)\u001b[0m\n\u001b[1;32m      5\u001b[0m     \u001b[0mold_rng\u001b[0m \u001b[0;34m=\u001b[0m \u001b[0mnew_df\u001b[0m\u001b[0;34m[\u001b[0m\u001b[0mcol_name\u001b[0m\u001b[0;34m]\u001b[0m\u001b[0;34m.\u001b[0m\u001b[0munique\u001b[0m\u001b[0;34m(\u001b[0m\u001b[0;34m)\u001b[0m\u001b[0;34m.\u001b[0m\u001b[0mtolist\u001b[0m\u001b[0;34m(\u001b[0m\u001b[0;34m)\u001b[0m\u001b[0;34m\u001b[0m\u001b[0;34m\u001b[0m\u001b[0m\n\u001b[1;32m      6\u001b[0m     \u001b[0mnew_rng\u001b[0m \u001b[0;34m=\u001b[0m \u001b[0mlist\u001b[0m\u001b[0;34m(\u001b[0m\u001b[0mrange\u001b[0m\u001b[0;34m(\u001b[0m\u001b[0m_min\u001b[0m\u001b[0;34m,\u001b[0m \u001b[0m_max\u001b[0m \u001b[0;34m+\u001b[0m \u001b[0;36m1\u001b[0m\u001b[0;34m)\u001b[0m\u001b[0;34m)\u001b[0m\u001b[0;34m\u001b[0m\u001b[0;34m\u001b[0m\u001b[0m\n\u001b[0;32m----> 7\u001b[0;31m     \u001b[0;32massert\u001b[0m \u001b[0msorted\u001b[0m\u001b[0;34m(\u001b[0m\u001b[0mold_rng\u001b[0m\u001b[0;34m)\u001b[0m \u001b[0;34m==\u001b[0m \u001b[0msorted\u001b[0m\u001b[0;34m(\u001b[0m\u001b[0mnew_rng\u001b[0m\u001b[0;34m)\u001b[0m\u001b[0;34m\u001b[0m\u001b[0;34m\u001b[0m\u001b[0m\n\u001b[0m",
      "\u001b[0;31mAssertionError\u001b[0m: "
     ]
    }
   ],
   "source": [
    "test_col_sequence(data_test, 'ORDERNUMBER')"
   ]
  },
  {
   "cell_type": "markdown",
   "metadata": {},
   "source": [
    "Oh no, a failure! This is an example of where you should really know your data set. It would appear as if not all order numbers have been registered within this data. Perhaps this is because a transaction is only entered into the database after an invoice has been paid and there is still a list of accounts receivable. Or any number of other reasons...\n",
    "\n",
    "The point is, we can't necessarily depend on this so we will have to come up with a better approach on how to utilize `ORDERNUMBER` in our tests. \n",
    "\n",
    "We will pick up here next time and start to develop some better tests and work out ideas for how to test this data in an automated fashion."
   ]
  }
 ],
 "metadata": {
  "kernelspec": {
   "display_name": "Python 3",
   "language": "python",
   "name": "python3"
  },
  "language_info": {
   "codemirror_mode": {
    "name": "ipython",
    "version": 3
   },
   "file_extension": ".py",
   "mimetype": "text/x-python",
   "name": "python",
   "nbconvert_exporter": "python",
   "pygments_lexer": "ipython3",
   "version": "3.7.4"
  }
 },
 "nbformat": 4,
 "nbformat_minor": 2
}
