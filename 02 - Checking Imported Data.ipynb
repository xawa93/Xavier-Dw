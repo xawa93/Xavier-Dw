{
 "cells": [
  {
   "cell_type": "markdown",
   "metadata": {},
   "source": [
    "# Lesson 02 - Checking Imported Data"
   ]
  },
  {
   "cell_type": "markdown",
   "metadata": {},
   "source": [
    "We'll Cover:  \n",
    "\n",
    "  - Importing data with pandas\n",
    "  - Setting up basic checks for data integrity using hard coded values\n",
    "  - Letting you know that something isn't right\n",
    "\n",
    "If you have not done so already please take a look at ***Lesson 01 - Importing Data and Quick Checks*** before going through this tutorial. That notebook will get you up to speed <https://github.com/stoltzmaniac/etl-in-python-tutorial/blob/master/01%20-%20Import%20Data.ipynb>"
   ]
  },
  {
   "cell_type": "code",
   "execution_count": 1,
   "metadata": {},
   "outputs": [],
   "source": [
    "# Import all libraries first\n",
    "import pandas as pd\n",
    "import numpy as np\n",
    "\n",
    "%matplotlib inline"
   ]
  },
  {
   "cell_type": "markdown",
   "metadata": {},
   "source": [
    "As covered previously, import the data."
   ]
  },
  {
   "cell_type": "code",
   "execution_count": 2,
   "metadata": {},
   "outputs": [
    {
     "data": {
      "text/html": [
       "<div>\n",
       "<style scoped>\n",
       "    .dataframe tbody tr th:only-of-type {\n",
       "        vertical-align: middle;\n",
       "    }\n",
       "\n",
       "    .dataframe tbody tr th {\n",
       "        vertical-align: top;\n",
       "    }\n",
       "\n",
       "    .dataframe thead th {\n",
       "        text-align: right;\n",
       "    }\n",
       "</style>\n",
       "<table border=\"1\" class=\"dataframe\">\n",
       "  <thead>\n",
       "    <tr style=\"text-align: right;\">\n",
       "      <th></th>\n",
       "      <th>ORDERNUMBER</th>\n",
       "      <th>QUANTITYORDERED</th>\n",
       "      <th>PRICEEACH</th>\n",
       "      <th>ORDERLINENUMBER</th>\n",
       "      <th>SALES</th>\n",
       "      <th>ORDERDATE</th>\n",
       "      <th>STATUS</th>\n",
       "      <th>MONTH_ID</th>\n",
       "      <th>YEAR_ID</th>\n",
       "      <th>PRODUCTLINE</th>\n",
       "      <th>...</th>\n",
       "      <th>ADDRESSLINE1</th>\n",
       "      <th>ADDRESSLINE2</th>\n",
       "      <th>CITY</th>\n",
       "      <th>STATE</th>\n",
       "      <th>POSTALCODE</th>\n",
       "      <th>COUNTRY</th>\n",
       "      <th>TERRITORY</th>\n",
       "      <th>CONTACTLASTNAME</th>\n",
       "      <th>CONTACTFIRSTNAME</th>\n",
       "      <th>DEALSIZE</th>\n",
       "    </tr>\n",
       "  </thead>\n",
       "  <tbody>\n",
       "    <tr>\n",
       "      <th>0</th>\n",
       "      <td>10107</td>\n",
       "      <td>30</td>\n",
       "      <td>95.70</td>\n",
       "      <td>2</td>\n",
       "      <td>2871.00</td>\n",
       "      <td>2/24/2003 0:00</td>\n",
       "      <td>Shipped</td>\n",
       "      <td>2</td>\n",
       "      <td>2003</td>\n",
       "      <td>Motorcycles</td>\n",
       "      <td>...</td>\n",
       "      <td>897 Long Airport Avenue</td>\n",
       "      <td>NaN</td>\n",
       "      <td>NYC</td>\n",
       "      <td>NY</td>\n",
       "      <td>10022</td>\n",
       "      <td>USA</td>\n",
       "      <td>NaN</td>\n",
       "      <td>Yu</td>\n",
       "      <td>Kwai</td>\n",
       "      <td>Small</td>\n",
       "    </tr>\n",
       "    <tr>\n",
       "      <th>1</th>\n",
       "      <td>10121</td>\n",
       "      <td>34</td>\n",
       "      <td>81.35</td>\n",
       "      <td>5</td>\n",
       "      <td>2765.90</td>\n",
       "      <td>5/7/2003 0:00</td>\n",
       "      <td>Shipped</td>\n",
       "      <td>5</td>\n",
       "      <td>2003</td>\n",
       "      <td>Motorcycles</td>\n",
       "      <td>...</td>\n",
       "      <td>59 rue de l'Abbaye</td>\n",
       "      <td>NaN</td>\n",
       "      <td>Reims</td>\n",
       "      <td>NaN</td>\n",
       "      <td>51100</td>\n",
       "      <td>France</td>\n",
       "      <td>EMEA</td>\n",
       "      <td>Henriot</td>\n",
       "      <td>Paul</td>\n",
       "      <td>Small</td>\n",
       "    </tr>\n",
       "    <tr>\n",
       "      <th>2</th>\n",
       "      <td>10134</td>\n",
       "      <td>41</td>\n",
       "      <td>94.74</td>\n",
       "      <td>2</td>\n",
       "      <td>3884.34</td>\n",
       "      <td>7/1/2003 0:00</td>\n",
       "      <td>Shipped</td>\n",
       "      <td>7</td>\n",
       "      <td>2003</td>\n",
       "      <td>Motorcycles</td>\n",
       "      <td>...</td>\n",
       "      <td>27 rue du Colonel Pierre Avia</td>\n",
       "      <td>NaN</td>\n",
       "      <td>Paris</td>\n",
       "      <td>NaN</td>\n",
       "      <td>75508</td>\n",
       "      <td>France</td>\n",
       "      <td>EMEA</td>\n",
       "      <td>Da Cunha</td>\n",
       "      <td>Daniel</td>\n",
       "      <td>Medium</td>\n",
       "    </tr>\n",
       "    <tr>\n",
       "      <th>3</th>\n",
       "      <td>10145</td>\n",
       "      <td>45</td>\n",
       "      <td>83.26</td>\n",
       "      <td>6</td>\n",
       "      <td>3746.70</td>\n",
       "      <td>8/25/2003 0:00</td>\n",
       "      <td>Shipped</td>\n",
       "      <td>8</td>\n",
       "      <td>2003</td>\n",
       "      <td>Motorcycles</td>\n",
       "      <td>...</td>\n",
       "      <td>78934 Hillside Dr.</td>\n",
       "      <td>NaN</td>\n",
       "      <td>Pasadena</td>\n",
       "      <td>CA</td>\n",
       "      <td>90003</td>\n",
       "      <td>USA</td>\n",
       "      <td>NaN</td>\n",
       "      <td>Young</td>\n",
       "      <td>Julie</td>\n",
       "      <td>Medium</td>\n",
       "    </tr>\n",
       "    <tr>\n",
       "      <th>4</th>\n",
       "      <td>10159</td>\n",
       "      <td>49</td>\n",
       "      <td>100.00</td>\n",
       "      <td>14</td>\n",
       "      <td>5205.27</td>\n",
       "      <td>10/10/2003 0:00</td>\n",
       "      <td>Shipped</td>\n",
       "      <td>10</td>\n",
       "      <td>2003</td>\n",
       "      <td>Motorcycles</td>\n",
       "      <td>...</td>\n",
       "      <td>7734 Strong St.</td>\n",
       "      <td>NaN</td>\n",
       "      <td>San Francisco</td>\n",
       "      <td>CA</td>\n",
       "      <td>NaN</td>\n",
       "      <td>USA</td>\n",
       "      <td>NaN</td>\n",
       "      <td>Brown</td>\n",
       "      <td>Julie</td>\n",
       "      <td>Medium</td>\n",
       "    </tr>\n",
       "  </tbody>\n",
       "</table>\n",
       "<p>5 rows × 24 columns</p>\n",
       "</div>"
      ],
      "text/plain": [
       "   ORDERNUMBER  QUANTITYORDERED  PRICEEACH  ORDERLINENUMBER    SALES  \\\n",
       "0        10107               30      95.70                2  2871.00   \n",
       "1        10121               34      81.35                5  2765.90   \n",
       "2        10134               41      94.74                2  3884.34   \n",
       "3        10145               45      83.26                6  3746.70   \n",
       "4        10159               49     100.00               14  5205.27   \n",
       "\n",
       "         ORDERDATE   STATUS  MONTH_ID  YEAR_ID  PRODUCTLINE  ...  \\\n",
       "0   2/24/2003 0:00  Shipped         2     2003  Motorcycles  ...   \n",
       "1    5/7/2003 0:00  Shipped         5     2003  Motorcycles  ...   \n",
       "2    7/1/2003 0:00  Shipped         7     2003  Motorcycles  ...   \n",
       "3   8/25/2003 0:00  Shipped         8     2003  Motorcycles  ...   \n",
       "4  10/10/2003 0:00  Shipped        10     2003  Motorcycles  ...   \n",
       "\n",
       "                    ADDRESSLINE1 ADDRESSLINE2           CITY STATE POSTALCODE  \\\n",
       "0        897 Long Airport Avenue          NaN            NYC    NY      10022   \n",
       "1             59 rue de l'Abbaye          NaN          Reims   NaN      51100   \n",
       "2  27 rue du Colonel Pierre Avia          NaN          Paris   NaN      75508   \n",
       "3             78934 Hillside Dr.          NaN       Pasadena    CA      90003   \n",
       "4                7734 Strong St.          NaN  San Francisco    CA        NaN   \n",
       "\n",
       "  COUNTRY TERRITORY CONTACTLASTNAME CONTACTFIRSTNAME DEALSIZE  \n",
       "0     USA       NaN              Yu             Kwai    Small  \n",
       "1  France      EMEA         Henriot             Paul    Small  \n",
       "2  France      EMEA        Da Cunha           Daniel   Medium  \n",
       "3     USA       NaN           Young            Julie   Medium  \n",
       "4     USA       NaN           Brown            Julie   Medium  \n",
       "\n",
       "[5 rows x 24 columns]"
      ]
     },
     "execution_count": 2,
     "metadata": {},
     "output_type": "execute_result"
    }
   ],
   "source": [
    "# Read historical data and take a look at it\n",
    "data = pd.read_csv('data/2003-2004_sales.csv').drop(['Unnamed: 0', 'QTR_ID'], axis=1)\n",
    "data.head()"
   ]
  },
  {
   "cell_type": "markdown",
   "metadata": {},
   "source": [
    "From our prior exploration we know what the column names should be and some basic statistics. We will start by simply hard coding these values and can later utilize a more dynamic structure. For our hard coded values, we will use an ALL_CAPS naming convention. Let's take a look at the bare bones of what we need for each column.\n",
    "\n",
    "  - ORDERNUMBER (int64)\n",
    "    - Minimum\n",
    "  - QUANTITYORDERED (int64)\n",
    "    - Average & Standard Deviation\n",
    "  - PRICEEACH (float64)  \n",
    "    - Average & Standard Deviation\n",
    "  - ORDERONLINENUMBER (int64)\n",
    "    - Minimum  \n",
    "  - SALES (float64)  \n",
    "    - Average & Standard Deviation\n",
    "  - ORDERDATE (object)  \n",
    "    - Minimum\n",
    "  - STATUS (object)\n",
    "    - Unique Values\n",
    "  - MONTH_ID (int64)\n",
    "    - Unique Values / Range of Integers\n",
    "  - YEAR_ID (int64)\n",
    "    - Unique Values / Range of Integers\n",
    "  - ADDRESSLINE1 (object)\n",
    "    - ?\n",
    "  - ADDRESSLINE2 (object)\n",
    "    - ?\n",
    "  - CITY (object) \n",
    "    - ?\n",
    "  - STATE (object) \n",
    "    - ?\n",
    "  - POSTALCODE (object)  \n",
    "    - ?\n",
    "  - COUNTRY (object)\n",
    "    - ?\n",
    "  - TERRITORY (object)  \n",
    "    - ?\n",
    "  - CONTACTLASTNAME (object)\t\n",
    "    - ?\n",
    "  - CONTACTFIRSTNAME (object)\t\n",
    "    - ?\n",
    "  - DEALSIZE (object)\n",
    "    - Unique Values\n",
    "  \n",
    "Note: **?** is a stand in for \"not easy to do\" or \"it doesn't make sense to check\" -- why wouldn't we want to check `CONTACTFIRSTNAME`?   \n",
    "\n",
    "Note: **(object)** is used where `numpy` (underlying `pandas`) is not displaying the actual type of the object. It is therefore referred to as `(object)` for now. However, understand that there are `datetime` objects, `string` etc.\n",
    "\n",
    "In addition to these, we need to check the columns exist and check the type of data is consistent."
   ]
  },
  {
   "cell_type": "markdown",
   "metadata": {},
   "source": [
    "----\n",
    "\n",
    "Let's first check on the column names and types.\n"
   ]
  },
  {
   "cell_type": "code",
   "execution_count": 3,
   "metadata": {},
   "outputs": [
    {
     "name": "stdout",
     "output_type": "stream",
     "text": [
      "[SUCCESS] - Column names match!\n"
     ]
    }
   ],
   "source": [
    "COLUMN_NAMES_CORRECT = [\n",
    "     'ORDERNUMBER',\n",
    "     'QUANTITYORDERED',\n",
    "     'PRICEEACH',\n",
    "     'ORDERLINENUMBER',\n",
    "     'SALES',\n",
    "     'ORDERDATE',\n",
    "     'STATUS',\n",
    "     'MONTH_ID',\n",
    "     'YEAR_ID',\n",
    "     'PRODUCTLINE',\n",
    "     'MSRP',\n",
    "     'PRODUCTCODE',\n",
    "     'CUSTOMERNAME',\n",
    "     'PHONE',\n",
    "     'ADDRESSLINE1',\n",
    "     'ADDRESSLINE2',\n",
    "     'CITY',\n",
    "     'STATE',\n",
    "     'POSTALCODE',\n",
    "     'COUNTRY',\n",
    "     'TERRITORY',\n",
    "     'CONTACTLASTNAME',\n",
    "     'CONTACTFIRSTNAME',\n",
    "     'DEALSIZE']\n",
    "\n",
    "# The following is not a good practice, exceptions should have a meaning and be more well defined\n",
    "# This is for illustrative purposes only.\n",
    "try:\n",
    "    if list(data.columns) == COLUMN_NAMES_CORRECT:\n",
    "        print('[SUCCESS] - Column names match!')\n",
    "    else:\n",
    "        print('[ERROR] - Column names do not match!')\n",
    "except Exception as e:\n",
    "    print(f'[ERROR] - Exception: {e}')\n"
   ]
  },
  {
   "cell_type": "markdown",
   "metadata": {},
   "source": [
    "Here is a failing case when removing some column names:"
   ]
  },
  {
   "cell_type": "code",
   "execution_count": 4,
   "metadata": {},
   "outputs": [
    {
     "name": "stdout",
     "output_type": "stream",
     "text": [
      "[ERROR] - Column names do not match!\n"
     ]
    }
   ],
   "source": [
    "COLUMN_NAMES_INCORRECT_SHORTENED = [\n",
    "     'QUANTITYORDERED',\n",
    "     'PRICEEACH',\n",
    "     'MONTH_ID',\n",
    "     'YEAR_ID',\n",
    "     'PRODUCTLINE',\n",
    "     'STATE',\n",
    "     'POSTALCODE',\n",
    "     'COUNTRY',\n",
    "     'TERRITORY',\n",
    "     'CONTACTLASTNAME',\n",
    "     'CONTACTFIRSTNAME']\n",
    "\n",
    "try:\n",
    "    if list(data.columns) == COLUMN_NAMES_INCORRECT_SHORTENED:\n",
    "        print('[SUCCESS] - Column names match!')\n",
    "    else:\n",
    "        print('[ERROR] - Column names do not match!')\n",
    "except Exception as e:\n",
    "    print(f'[ERROR] - Exception: {e}')"
   ]
  },
  {
   "cell_type": "markdown",
   "metadata": {},
   "source": [
    "In those cases, the order of the list matter. What if we don't care what order they are in? Here is the failing case:"
   ]
  },
  {
   "cell_type": "code",
   "execution_count": 5,
   "metadata": {},
   "outputs": [
    {
     "name": "stdout",
     "output_type": "stream",
     "text": [
      "[ERROR] - Column names do not match!\n"
     ]
    }
   ],
   "source": [
    "COLUMN_NAMES_INCORRECT_OUT_OF_ORDER = [\n",
    "     'DEALSIZE',\n",
    "     'ORDERNUMBER',\n",
    "     'QUANTITYORDERED',\n",
    "     'PRICEEACH',\n",
    "     'ORDERLINENUMBER',\n",
    "     'SALES',\n",
    "     'ORDERDATE',\n",
    "     'STATUS',\n",
    "     'MONTH_ID',\n",
    "     'YEAR_ID',\n",
    "     'PRODUCTLINE',\n",
    "     'MSRP',\n",
    "     'PRODUCTCODE',\n",
    "     'CUSTOMERNAME',\n",
    "     'PHONE',\n",
    "     'ADDRESSLINE1',\n",
    "     'ADDRESSLINE2',\n",
    "     'CITY',\n",
    "     'STATE',\n",
    "     'POSTALCODE',\n",
    "     'COUNTRY',\n",
    "     'TERRITORY',\n",
    "     'CONTACTLASTNAME',\n",
    "     'CONTACTFIRSTNAME']\n",
    "\n",
    "# The following is not a good practice, exceptions should have a meaning and be more well defined\n",
    "# This is for illustrative purposes only.\n",
    "try:\n",
    "    if list(data.columns) == COLUMN_NAMES_INCORRECT_OUT_OF_ORDER:\n",
    "        print('[SUCCESS] - Column names match!')\n",
    "    else:\n",
    "        print('[ERROR] - Column names do not match!')\n",
    "except Exception as e:\n",
    "    print(f'[ERROR] - Exception: {e}')\n"
   ]
  },
  {
   "cell_type": "markdown",
   "metadata": {},
   "source": [
    "Let us specify, that for our use case:  \n",
    "\n",
    "  1. Order of the columns does not matter\n",
    "  2. All columns from list must be found in the imported data\n",
    "  3. Extra columns do not matter  \n",
    "  \n",
    "There are a LOT of different ways you could solve this problem. We are simply going to select the columns we care about from the dataframe. If this throws an "
   ]
  },
  {
   "cell_type": "code",
   "execution_count": 6,
   "metadata": {},
   "outputs": [
    {
     "name": "stdout",
     "output_type": "stream",
     "text": [
      "[SUCCESS] - All columns were selected, so they must exist!\n"
     ]
    }
   ],
   "source": [
    "COLUMN_NAMES = [\n",
    "     'ORDERNUMBER',\n",
    "     'QUANTITYORDERED',\n",
    "     'PRICEEACH',\n",
    "     'ORDERLINENUMBER',\n",
    "     'SALES',\n",
    "     'ORDERDATE',\n",
    "     'STATUS',\n",
    "     'MONTH_ID',\n",
    "     'YEAR_ID',\n",
    "     'PRODUCTLINE',\n",
    "     'MSRP',\n",
    "     'PRODUCTCODE',\n",
    "     'CUSTOMERNAME',\n",
    "     'PHONE',\n",
    "     'ADDRESSLINE1',\n",
    "     'ADDRESSLINE2',\n",
    "     'CITY',\n",
    "     'STATE',\n",
    "     'POSTALCODE',\n",
    "     'COUNTRY',\n",
    "     'TERRITORY',\n",
    "     'CONTACTLASTNAME',\n",
    "     'CONTACTFIRSTNAME',\n",
    "     'DEALSIZE']\n",
    "\n",
    "\n",
    "# The following is not a good practice, exceptions should have a meaning and be more well defined\n",
    "# This is for illustrative purposes only.\n",
    "try:\n",
    "    if data[COLUMN_NAMES].all:\n",
    "        print('[SUCCESS] - All columns were selected, so they must exist!')\n",
    "except Exception as e:\n",
    "    print(f'[ERROR] - Exception: {e}')\n"
   ]
  },
  {
   "cell_type": "markdown",
   "metadata": {},
   "source": [
    "Now that we have all of the columns selected by name, we need to check the type of data. We will leave `dtype` for `object` remain this way for now. It takes a bit more work to get the actual data type to compare, so we'll stick with this for the purpose of brevity. Keep in mind that the data may not come in with columns in the right order, therefore, we need to select the data before check the column types."
   ]
  },
  {
   "cell_type": "code",
   "execution_count": 7,
   "metadata": {},
   "outputs": [],
   "source": [
    "COLUMN_DATA_TYPES = [np.dtype('int64'),\n",
    "                     np.dtype('int64'),\n",
    "                     np.dtype('float64'),\n",
    "                     np.dtype('int64'),\n",
    "                     np.dtype('float64'),\n",
    "                     np.dtype('O'),\n",
    "                     np.dtype('O'),\n",
    "                     np.dtype('int64'),\n",
    "                     np.dtype('int64'),\n",
    "                     np.dtype('O'),\n",
    "                     np.dtype('int64'),\n",
    "                     np.dtype('O'),\n",
    "                     np.dtype('O'),\n",
    "                     np.dtype('O'),\n",
    "                     np.dtype('O'),\n",
    "                     np.dtype('O'),\n",
    "                     np.dtype('O'),\n",
    "                     np.dtype('O'),\n",
    "                     np.dtype('O'),\n",
    "                     np.dtype('O'),\n",
    "                     np.dtype('O'),\n",
    "                     np.dtype('O'),\n",
    "                     np.dtype('O'),\n",
    "                     np.dtype('O')]\n",
    "\n",
    "\n",
    "# This is starting to feel like a lot of work, isn't there a better way??"
   ]
  },
  {
   "cell_type": "markdown",
   "metadata": {},
   "source": [
    "The steps above have been very manual and take a lot of work with plenty of places to make mistakes. Luckily for us, the people who maintain `pandas` have solved a lot of these problems for us. We simply need a dataframe to start with and then we can compare things to that.  \n",
    "\n",
    "We are going to have some fun and use the current data set we've loaded as what we are going to test against. This will save us a lot of time. For many of you, this is not unlike the real world. You can take a historical data file and use it to setup for the next steps.\n",
    "\n",
    "Check out the documentation here: <https://pandas.pydata.org/pandas-docs/stable/reference/api/pandas.testing.assert_frame_equal.html>"
   ]
  },
  {
   "cell_type": "code",
   "execution_count": 8,
   "metadata": {},
   "outputs": [
    {
     "data": {
      "text/html": [
       "<div>\n",
       "<style scoped>\n",
       "    .dataframe tbody tr th:only-of-type {\n",
       "        vertical-align: middle;\n",
       "    }\n",
       "\n",
       "    .dataframe tbody tr th {\n",
       "        vertical-align: top;\n",
       "    }\n",
       "\n",
       "    .dataframe thead th {\n",
       "        text-align: right;\n",
       "    }\n",
       "</style>\n",
       "<table border=\"1\" class=\"dataframe\">\n",
       "  <thead>\n",
       "    <tr style=\"text-align: right;\">\n",
       "      <th></th>\n",
       "      <th>ORDERNUMBER</th>\n",
       "      <th>QUANTITYORDERED</th>\n",
       "      <th>PRICEEACH</th>\n",
       "      <th>ORDERLINENUMBER</th>\n",
       "      <th>SALES</th>\n",
       "      <th>ORDERDATE</th>\n",
       "      <th>STATUS</th>\n",
       "      <th>MONTH_ID</th>\n",
       "      <th>YEAR_ID</th>\n",
       "      <th>PRODUCTLINE</th>\n",
       "      <th>...</th>\n",
       "      <th>ADDRESSLINE1</th>\n",
       "      <th>ADDRESSLINE2</th>\n",
       "      <th>CITY</th>\n",
       "      <th>STATE</th>\n",
       "      <th>POSTALCODE</th>\n",
       "      <th>COUNTRY</th>\n",
       "      <th>TERRITORY</th>\n",
       "      <th>CONTACTLASTNAME</th>\n",
       "      <th>CONTACTFIRSTNAME</th>\n",
       "      <th>DEALSIZE</th>\n",
       "    </tr>\n",
       "  </thead>\n",
       "  <tbody>\n",
       "    <tr>\n",
       "      <th>0</th>\n",
       "      <td>10369</td>\n",
       "      <td>41</td>\n",
       "      <td>100.00</td>\n",
       "      <td>2</td>\n",
       "      <td>4514.92</td>\n",
       "      <td>1/20/2005 0:00</td>\n",
       "      <td>Shipped</td>\n",
       "      <td>1</td>\n",
       "      <td>2005</td>\n",
       "      <td>Classic Cars</td>\n",
       "      <td>...</td>\n",
       "      <td>7825 Douglas Av.</td>\n",
       "      <td>NaN</td>\n",
       "      <td>Brickhaven</td>\n",
       "      <td>MA</td>\n",
       "      <td>58339</td>\n",
       "      <td>USA</td>\n",
       "      <td>NaN</td>\n",
       "      <td>Nelson</td>\n",
       "      <td>Allen</td>\n",
       "      <td>Medium</td>\n",
       "    </tr>\n",
       "    <tr>\n",
       "      <th>1</th>\n",
       "      <td>10362</td>\n",
       "      <td>22</td>\n",
       "      <td>100.00</td>\n",
       "      <td>4</td>\n",
       "      <td>3664.10</td>\n",
       "      <td>1/5/2005 0:00</td>\n",
       "      <td>Shipped</td>\n",
       "      <td>1</td>\n",
       "      <td>2005</td>\n",
       "      <td>Motorcycles</td>\n",
       "      <td>...</td>\n",
       "      <td>9408 Furth Circle</td>\n",
       "      <td>NaN</td>\n",
       "      <td>Burlingame</td>\n",
       "      <td>CA</td>\n",
       "      <td>94217</td>\n",
       "      <td>USA</td>\n",
       "      <td>NaN</td>\n",
       "      <td>Hirano</td>\n",
       "      <td>Juri</td>\n",
       "      <td>Medium</td>\n",
       "    </tr>\n",
       "    <tr>\n",
       "      <th>2</th>\n",
       "      <td>10373</td>\n",
       "      <td>39</td>\n",
       "      <td>100.00</td>\n",
       "      <td>3</td>\n",
       "      <td>4046.25</td>\n",
       "      <td>1/31/2005 0:00</td>\n",
       "      <td>Shipped</td>\n",
       "      <td>1</td>\n",
       "      <td>2005</td>\n",
       "      <td>Classic Cars</td>\n",
       "      <td>...</td>\n",
       "      <td>Torikatu 38</td>\n",
       "      <td>NaN</td>\n",
       "      <td>Oulu</td>\n",
       "      <td>NaN</td>\n",
       "      <td>90110</td>\n",
       "      <td>Finland</td>\n",
       "      <td>EMEA</td>\n",
       "      <td>Koskitalo</td>\n",
       "      <td>Pirkko</td>\n",
       "      <td>Medium</td>\n",
       "    </tr>\n",
       "    <tr>\n",
       "      <th>3</th>\n",
       "      <td>10370</td>\n",
       "      <td>35</td>\n",
       "      <td>65.63</td>\n",
       "      <td>4</td>\n",
       "      <td>2297.05</td>\n",
       "      <td>1/20/2005 0:00</td>\n",
       "      <td>Shipped</td>\n",
       "      <td>1</td>\n",
       "      <td>2005</td>\n",
       "      <td>Classic Cars</td>\n",
       "      <td>...</td>\n",
       "      <td>201 Miller Street</td>\n",
       "      <td>Level 15</td>\n",
       "      <td>North Sydney</td>\n",
       "      <td>NSW</td>\n",
       "      <td>2060</td>\n",
       "      <td>Australia</td>\n",
       "      <td>APAC</td>\n",
       "      <td>O'Hara</td>\n",
       "      <td>Anna</td>\n",
       "      <td>Small</td>\n",
       "    </tr>\n",
       "    <tr>\n",
       "      <th>4</th>\n",
       "      <td>10363</td>\n",
       "      <td>33</td>\n",
       "      <td>85.39</td>\n",
       "      <td>3</td>\n",
       "      <td>2817.87</td>\n",
       "      <td>1/6/2005 0:00</td>\n",
       "      <td>Shipped</td>\n",
       "      <td>1</td>\n",
       "      <td>2005</td>\n",
       "      <td>Classic Cars</td>\n",
       "      <td>...</td>\n",
       "      <td>Software Engineering Center, SEC Oy</td>\n",
       "      <td>NaN</td>\n",
       "      <td>Espoo</td>\n",
       "      <td>NaN</td>\n",
       "      <td>FIN-02271</td>\n",
       "      <td>Finland</td>\n",
       "      <td>EMEA</td>\n",
       "      <td>Suominen</td>\n",
       "      <td>Kalle</td>\n",
       "      <td>Small</td>\n",
       "    </tr>\n",
       "  </tbody>\n",
       "</table>\n",
       "<p>5 rows × 24 columns</p>\n",
       "</div>"
      ],
      "text/plain": [
       "   ORDERNUMBER  QUANTITYORDERED  PRICEEACH  ORDERLINENUMBER    SALES  \\\n",
       "0        10369               41     100.00                2  4514.92   \n",
       "1        10362               22     100.00                4  3664.10   \n",
       "2        10373               39     100.00                3  4046.25   \n",
       "3        10370               35      65.63                4  2297.05   \n",
       "4        10363               33      85.39                3  2817.87   \n",
       "\n",
       "        ORDERDATE   STATUS  MONTH_ID  YEAR_ID   PRODUCTLINE  ...  \\\n",
       "0  1/20/2005 0:00  Shipped         1     2005  Classic Cars  ...   \n",
       "1   1/5/2005 0:00  Shipped         1     2005   Motorcycles  ...   \n",
       "2  1/31/2005 0:00  Shipped         1     2005  Classic Cars  ...   \n",
       "3  1/20/2005 0:00  Shipped         1     2005  Classic Cars  ...   \n",
       "4   1/6/2005 0:00  Shipped         1     2005  Classic Cars  ...   \n",
       "\n",
       "                          ADDRESSLINE1 ADDRESSLINE2          CITY STATE  \\\n",
       "0                     7825 Douglas Av.          NaN    Brickhaven    MA   \n",
       "1                    9408 Furth Circle          NaN    Burlingame    CA   \n",
       "2                          Torikatu 38          NaN          Oulu   NaN   \n",
       "3                    201 Miller Street     Level 15  North Sydney   NSW   \n",
       "4  Software Engineering Center, SEC Oy          NaN         Espoo   NaN   \n",
       "\n",
       "  POSTALCODE    COUNTRY TERRITORY CONTACTLASTNAME CONTACTFIRSTNAME DEALSIZE  \n",
       "0      58339        USA       NaN          Nelson            Allen   Medium  \n",
       "1      94217        USA       NaN          Hirano             Juri   Medium  \n",
       "2      90110    Finland      EMEA       Koskitalo           Pirkko   Medium  \n",
       "3       2060  Australia      APAC          O'Hara             Anna    Small  \n",
       "4  FIN-02271    Finland      EMEA        Suominen            Kalle    Small  \n",
       "\n",
       "[5 rows x 24 columns]"
      ]
     },
     "execution_count": 8,
     "metadata": {},
     "output_type": "execute_result"
    }
   ],
   "source": [
    "# Bringing in test_data as we did before, ensuring we don't overwrite and confuse variable names\n",
    "test_data = pd.read_csv('data/2003-2004_sales.csv').drop(['Unnamed: 0', 'QTR_ID'], axis=1)\n",
    "\n",
    "data = pd.read_csv('data/2005-01_sales.csv').drop(['Unnamed: 0', 'QTR_ID'], axis=1)\n",
    "data.head()"
   ]
  },
  {
   "cell_type": "markdown",
   "metadata": {},
   "source": [
    "To see if two dataframes are exactly equal, it is very simple by using `pd.testing.assert_frame_equal()`"
   ]
  },
  {
   "cell_type": "code",
   "execution_count": 9,
   "metadata": {},
   "outputs": [
    {
     "name": "stdout",
     "output_type": "stream",
     "text": [
      "[SUCCESS] - dataframes are exactly equal\n"
     ]
    }
   ],
   "source": [
    "# This passes\n",
    "try:\n",
    "    pd.testing.assert_frame_equal(test_data, test_data)\n",
    "    print('[SUCCESS] - dataframes are exactly equal')\n",
    "except Exception as e:\n",
    "    print(f'[ERROR] - an exception was thrown: {e}')"
   ]
  },
  {
   "cell_type": "code",
   "execution_count": 10,
   "metadata": {},
   "outputs": [
    {
     "name": "stdout",
     "output_type": "stream",
     "text": [
      "[ERROR] - an exception was thrown: DataFrame are different\n",
      "\n",
      "DataFrame shape mismatch\n",
      "[left]:  (2345, 24)\n",
      "[right]: (99, 24)\n"
     ]
    }
   ],
   "source": [
    "# This fails\n",
    "try:\n",
    "    pd.testing.assert_frame_equal(test_data, data)\n",
    "    print('[SUCCESS] - dataframes are exactly equal')\n",
    "except Exception as e:\n",
    "    print(f'[ERROR] - an exception was thrown: {e}')"
   ]
  },
  {
   "cell_type": "markdown",
   "metadata": {},
   "source": [
    "We are currently looking for two things:\n",
    "  1. All the columns we care about are in there\n",
    "  2. Data types match\n",
    "\n",
    "It's very easy to simply check column names and `dtype` "
   ]
  },
  {
   "cell_type": "code",
   "execution_count": 11,
   "metadata": {},
   "outputs": [
    {
     "name": "stdout",
     "output_type": "stream",
     "text": [
      "[SUCCESS] - dataframes have same columns and dtypes\n"
     ]
    }
   ],
   "source": [
    "# Adding check_like allows for columns to change order\n",
    "try:\n",
    "    pd.testing.assert_frame_equal(test_data.iloc[0:0], data[0:0], check_like=True)\n",
    "    print('[SUCCESS] - dataframes have same columns and dtypes')\n",
    "except Exception as e:\n",
    "    print(f'[ERROR] - an exception was thrown: {e}')"
   ]
  },
  {
   "cell_type": "markdown",
   "metadata": {},
   "source": [
    "Now that we know the columns are the same and have the same `dtype` we can go ahead and test the data to see if it's similar to what we expect from our historical dataframe. For simplicity, let's first get a handle on the numerical columns."
   ]
  },
  {
   "cell_type": "code",
   "execution_count": 12,
   "metadata": {},
   "outputs": [],
   "source": [
    "COLUMN_NAMES_NUMERICAL = [\n",
    "     'QUANTITYORDERED',\n",
    "     'PRICEEACH',\n",
    "     'SALES',\n",
    "     'MSRP']\n",
    "\n",
    "test_data_numerical = test_data.copy()[COLUMN_NAMES_NUMERICAL]\n",
    "data_numerical = data.copy()[COLUMN_NAMES_NUMERICAL]"
   ]
  },
  {
   "cell_type": "markdown",
   "metadata": {},
   "source": [
    "We know that `ORDERNUMBER` and `ORDERLINENUMBER` should never predate the first dates where the data starts. So we can simply check for `>=` "
   ]
  },
  {
   "cell_type": "code",
   "execution_count": 13,
   "metadata": {},
   "outputs": [
    {
     "name": "stdout",
     "output_type": "stream",
     "text": [
      "[SUCCESS] - All ORDERNUMBER >= minimum requirement\n",
      "[SUCCESS] - All ORDERLINENUMBER >= minimum requirement\n"
     ]
    }
   ],
   "source": [
    "for col_name in ['ORDERNUMBER', 'ORDERLINENUMBER']:\n",
    "    min_test_data = min(test_data[col_name])\n",
    "    min_data = min(data[col_name])\n",
    "    if min_data >= min_test_data:\n",
    "        print(f'[SUCCESS] - All {col_name} >= minimum requirement')\n",
    "    else:\n",
    "        print(f'[ERROR] - All {col_name} not >= minimum requirement')"
   ]
  },
  {
   "cell_type": "markdown",
   "metadata": {},
   "source": [
    "Our `MONTH_ID` and `YEAR_ID` are slightly more nuanced but follow strict rules. Months are clearly 1-12 and we are going to constrain years to the starting year up until the year 2100. If we make it to 2100 with this same software..."
   ]
  },
  {
   "cell_type": "code",
   "execution_count": 14,
   "metadata": {},
   "outputs": [
    {
     "name": "stdout",
     "output_type": "stream",
     "text": [
      "[SUCCESS] - Month 1 matches requirements\n"
     ]
    }
   ],
   "source": [
    "for i in list(data['MONTH_ID'].unique()):\n",
    "    if i in range(1,13):\n",
    "        print(f'[SUCCESS] - Month {i} matches requirements')\n",
    "    else:\n",
    "        print(f'[ERROR] - All {i} does not match requirements')"
   ]
  },
  {
   "cell_type": "code",
   "execution_count": 15,
   "metadata": {},
   "outputs": [
    {
     "name": "stdout",
     "output_type": "stream",
     "text": [
      "[SUCCESS] - Year 2005 matches requirements\n"
     ]
    }
   ],
   "source": [
    "for i in list(data['YEAR_ID'].unique()):\n",
    "    if i in range(2003,2101):\n",
    "        print(f'[SUCCESS] - Year {i} matches requirements')\n",
    "    else:\n",
    "        print(f'[ERROR] - All {i} does not match requirements')"
   ]
  },
  {
   "cell_type": "markdown",
   "metadata": {},
   "source": [
    "This gets a bit trickier when you start to look at other metrics such as `mean` and `sd`, etc. Let's take another rudimentary approach. We will capture the mean and standard deviations of each column and test to see if all of the values lie within the range of +/- 3 standard deviations of the mean."
   ]
  },
  {
   "cell_type": "code",
   "execution_count": 16,
   "metadata": {},
   "outputs": [
    {
     "data": {
      "text/plain": [
       "ORDERNUMBER        10231.498081\n",
       "QUANTITYORDERED       34.727505\n",
       "PRICEEACH             83.702021\n",
       "ORDERLINENUMBER        6.566738\n",
       "SALES               3514.346328\n",
       "MONTH_ID               7.926226\n",
       "YEAR_ID             2003.573561\n",
       "MSRP                 100.827292\n",
       "dtype: float64"
      ]
     },
     "execution_count": 16,
     "metadata": {},
     "output_type": "execute_result"
    }
   ],
   "source": [
    "test_data.mean(axis=0)"
   ]
  },
  {
   "cell_type": "code",
   "execution_count": 17,
   "metadata": {},
   "outputs": [
    {
     "data": {
      "text/plain": [
       "ORDERNUMBER          75.892675\n",
       "QUANTITYORDERED       9.028843\n",
       "PRICEEACH            20.141470\n",
       "ORDERLINENUMBER       4.258489\n",
       "SALES              1769.969374\n",
       "MONTH_ID              3.398720\n",
       "YEAR_ID               0.494665\n",
       "MSRP                 40.175060\n",
       "dtype: float64"
      ]
     },
     "execution_count": 17,
     "metadata": {},
     "output_type": "execute_result"
    }
   ],
   "source": [
    "test_data.std(axis=0)"
   ]
  },
  {
   "cell_type": "markdown",
   "metadata": {},
   "source": [
    "You can reference the mean and standard deviation for specific columns by passing the column name as a string: `test_data.mean()['PRICEEACH']`.\n",
    "\n",
    "Now we find all of the standard deviations * 3, then +/- to the mean in order to get our range of acceptable values. In this example, we will transform the data to allow us to align and visualize it much more easily. Let's take a look at the results of adding and subtracting 3x the standard deviation."
   ]
  },
  {
   "cell_type": "code",
   "execution_count": 18,
   "metadata": {},
   "outputs": [
    {
     "data": {
      "text/plain": [
       "ORDERNUMBER        10459.176105\n",
       "QUANTITYORDERED       61.814033\n",
       "PRICEEACH            144.126432\n",
       "ORDERLINENUMBER       19.342205\n",
       "SALES               8824.254451\n",
       "MONTH_ID              18.122385\n",
       "YEAR_ID             2005.057555\n",
       "MSRP                 221.352472\n",
       "dtype: float64"
      ]
     },
     "execution_count": 18,
     "metadata": {},
     "output_type": "execute_result"
    }
   ],
   "source": [
    "num_of_std_away = 3\n",
    "\n",
    "test_data_means = pd.DataFrame(test_data.mean(axis=0)).T\n",
    "test_data_stds_plus = num_of_std_away * pd.DataFrame(test_data.std(axis=0)).T\n",
    "test_data_stds_minus = -num_of_std_away * pd.DataFrame(test_data.std(axis=0)).T\n",
    "\n",
    "test_data_high = pd.concat([test_data_means, test_data_stds_plus]).sum()\n",
    "test_data_low = pd.concat([test_data_means, test_data_stds_minus]).sum()\n",
    "\n",
    "test_data_high"
   ]
  },
  {
   "cell_type": "code",
   "execution_count": 19,
   "metadata": {},
   "outputs": [
    {
     "data": {
      "text/plain": [
       "ORDERNUMBER        10003.820057\n",
       "QUANTITYORDERED        7.640978\n",
       "PRICEEACH             23.277610\n",
       "ORDERLINENUMBER       -6.208730\n",
       "SALES              -1795.561794\n",
       "MONTH_ID              -2.269933\n",
       "YEAR_ID             2002.089567\n",
       "MSRP                 -19.697887\n",
       "dtype: float64"
      ]
     },
     "execution_count": 19,
     "metadata": {},
     "output_type": "execute_result"
    }
   ],
   "source": [
    "test_data_low"
   ]
  },
  {
   "cell_type": "markdown",
   "metadata": {},
   "source": [
    "The data can easily be identified as pass/fail based off of fitting the boundary conditions."
   ]
  },
  {
   "cell_type": "code",
   "execution_count": 20,
   "metadata": {},
   "outputs": [
    {
     "name": "stdout",
     "output_type": "stream",
     "text": [
      "Testing: QUANTITYORDERED\n",
      "[SUCCESS] - QUANTITYORDERED - fits the requirements!\n",
      "Testing: PRICEEACH\n",
      "[SUCCESS] - PRICEEACH - fits the requirements!\n",
      "Testing: SALES\n",
      "[SUCCESS] - SALES - fits the requirements!\n",
      "Testing: MSRP\n",
      "[SUCCESS] - MSRP - fits the requirements!\n"
     ]
    }
   ],
   "source": [
    "for col_name in COLUMN_NAMES_NUMERICAL:\n",
    "    print(f'Testing: {col_name}')\n",
    "    if (data[col_name] < test_data_low[col_name]).all() or (data[col_name] > test_data_high[col_name]).all():\n",
    "        print(f'[ERROR] - {col_name} - does not fit the requirements!')\n",
    "    else:\n",
    "        print(f'[SUCCESS] - {col_name} - fits the requirements!')"
   ]
  },
  {
   "cell_type": "markdown",
   "metadata": {},
   "source": [
    "As we can see, all of our tests have passed. This notebook shows results in a printed format, in order to truly \"test\" our data, we should have more rigorous tests that make or break our data import. We did not dive into the categorical or time series / datetime data. This would be quite repetitive compared to what was already done so I will not complete those tasks at this time.\n",
    "\n",
    "This process has also shown us that our historical data can quickly be used to affect future decisions. You could expand this out to include a lot of historical data or less simply by reading in more or less data!\n",
    "\n",
    "In a future post, we will consider going beyond the notebook into utilizing a CLI so that parameters can be input in order to constrain things on the fly."
   ]
  },
  {
   "cell_type": "markdown",
   "metadata": {},
   "source": [
    "Thank you for reading!"
   ]
  }
 ],
 "metadata": {
  "kernelspec": {
   "display_name": "Python 3",
   "language": "python",
   "name": "python3"
  },
  "language_info": {
   "codemirror_mode": {
    "name": "ipython",
    "version": 3
   },
   "file_extension": ".py",
   "mimetype": "text/x-python",
   "name": "python",
   "nbconvert_exporter": "python",
   "pygments_lexer": "ipython3",
   "version": "3.7.4"
  }
 },
 "nbformat": 4,
 "nbformat_minor": 4
}
